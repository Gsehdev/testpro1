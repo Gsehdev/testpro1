{
 "cells": [
  {
   "cell_type": "code",
   "execution_count": 7,
   "id": "6e0a9679-f50a-4d28-8e53-fbf73fdfc926",
   "metadata": {},
   "outputs": [],
   "source": [
    "#TOPIC: Python Basics Variable\n",
    "#QUESTION 1:================================================================================================="
   ]
  },
  {
   "cell_type": "code",
   "execution_count": 117,
   "id": "7113936c-6a5c-4134-9bee-5c2e7f936724",
   "metadata": {},
   "outputs": [
    {
     "name": "stdout",
     "output_type": "stream",
     "text": [
      "After swapping:\n",
      "x = 80\n",
      "y = 35\n"
     ]
    }
   ],
   "source": [
    "'''Q1. Declare two variables, `x` and `y`, and assign them integer values. Swap the\n",
    "values of these variables without using any temporary variable.'''\n",
    "\n",
    "x = 35\n",
    "y = 80\n",
    "\n",
    "#swapping function\n",
    "x = x + y\n",
    "y = x - y\n",
    "x = x - y\n",
    "\n",
    "'''This code first adds x and y together and stores the result in x. \n",
    "Then, it subtracts the original value of y from x and assigns it to y. \n",
    "Finally, it subtracts the original value of x (now stored in y) from x. \n",
    "As a result, the values of x and y are swapped.'''\n",
    "\n",
    "#Display output\n",
    "print(\"After swapping:\")\n",
    "print(\"x =\", x)\n",
    "print(\"y =\", y)"
   ]
  },
  {
   "cell_type": "code",
   "execution_count": null,
   "id": "e39f32d5-efea-438c-8c47-af213dccf357",
   "metadata": {},
   "outputs": [],
   "source": [
    "#TOPIC: Python Basics Variable\n",
    "#QUESTION 2:================================================================================================="
   ]
  },
  {
   "cell_type": "code",
   "execution_count": 119,
   "id": "a261acfb-3130-47b7-94e0-467861ae1145",
   "metadata": {},
   "outputs": [
    {
     "name": "stdin",
     "output_type": "stream",
     "text": [
      "Enter the length of the rectangle:  25\n",
      "Enter the width of the rectangle:  35\n"
     ]
    },
    {
     "name": "stdout",
     "output_type": "stream",
     "text": [
      "The area of the rectangle is: 875.0\n"
     ]
    }
   ],
   "source": [
    "'''Q2. Create a program that calculates the area of a rectangle. Take the length and\n",
    "width as inputs from the user and store them in variables. Calculate and\n",
    "display the area.'''\n",
    "\n",
    "# Get input from the user for length\n",
    "length = float(input(\"Enter the length of the rectangle: \"))\n",
    "\n",
    "# Get input from the user for width\n",
    "width = float(input(\"Enter the width of the rectangle: \"))\n",
    "\n",
    "# Calculate the area of the rectangle\n",
    "area = length * width\n",
    "\n",
    "'''In this program:\n",
    "\n",
    "We use the input() function to get input from the user for the length and width of the rectangle. \n",
    "We use float() to convert the user input to floating-point numbers because \n",
    "the length and width can be decimal values.\n",
    "\n",
    "We calculate the area of the rectangle by multiplying the length and width, \n",
    "and store the result in the area variable.\n",
    "\n",
    "Finally, we use print() to display the calculated area.'''\n",
    "\n",
    "# Display the calculated area\n",
    "print(\"The area of the rectangle is:\", area)"
   ]
  },
  {
   "cell_type": "code",
   "execution_count": null,
   "id": "d11e2043-62aa-4a8e-8fcc-785f408cc2b8",
   "metadata": {},
   "outputs": [],
   "source": [
    "#TOPIC: Python Basics Variable\n",
    "#QUESTION 3:================================================================================================="
   ]
  },
  {
   "cell_type": "code",
   "execution_count": 121,
   "id": "8aee29ff-0838-448a-a8bf-4b27d94e6c3e",
   "metadata": {},
   "outputs": [
    {
     "name": "stdin",
     "output_type": "stream",
     "text": [
      "Enter temperature in Celsius (e.g., 25°C):  38\n"
     ]
    },
    {
     "name": "stdout",
     "output_type": "stream",
     "text": [
      "Temperature in Celsius: 38.0 °C\n",
      "Temperature in Fahrenheit: 100.4 °F\n"
     ]
    }
   ],
   "source": [
    "'''Q3. Write a Python program that converts temperatures from Celsius to\n",
    "Fahrenheit. Take the temperature in Celsius as input, store it in a variable,\n",
    "convert it to Fahrenheit, and display the result.'''\n",
    "\n",
    "# Get input from the user for temperature in Celsius\n",
    "celsius = float(input(\"Enter temperature in Celsius (e.g., 25°C): \"))\n",
    "\n",
    "# formula to convert temperatures from Celsius to Fahrenheit (0°C × 9/5) + 32 = 32°F\n",
    "fahrenheit = (celsius * 9/5) + 32\n",
    "\n",
    "'''In this program:\n",
    "\n",
    "We use input() to get the temperature in Celsius as a floating-point number.\n",
    "\n",
    "We then apply the conversion formula to calculate the temperature \n",
    "in Fahrenheit and store it in the fahrenheit variable.\n",
    "\n",
    "Finally, we use print() to display the temperature in Fahrenheit.'''\n",
    "\n",
    "# Display the temperature in Celsius and in Fahrenheit\n",
    "print(\"Temperature in Celsius:\", celsius, \"°C\")\n",
    "print(\"Temperature in Fahrenheit:\", fahrenheit, \"°F\")"
   ]
  },
  {
   "cell_type": "code",
   "execution_count": 84,
   "id": "888ff062-35b1-4a1f-b98e-89fa3a13a2f5",
   "metadata": {},
   "outputs": [],
   "source": [
    "#TOPIC: String Based Questions\n",
    "##QUESTION 1:================================================================================================="
   ]
  },
  {
   "cell_type": "code",
   "execution_count": 123,
   "id": "5aa35098-83f4-41e5-9161-abca7cf5e826",
   "metadata": {},
   "outputs": [
    {
     "name": "stdin",
     "output_type": "stream",
     "text": [
      "Enter a string to calculate the length:  gautam\n"
     ]
    },
    {
     "name": "stdout",
     "output_type": "stream",
     "text": [
      "Length of your string is:  6\n"
     ]
    }
   ],
   "source": [
    "'''Q1. Write a Python program that takes a string as input and prints the length of\n",
    "the string.'''\n",
    "\n",
    "# Get input from the user as a string\n",
    "input_string = str(input(\"Enter a string to calculate the length: \"))\n",
    "\n",
    "'''In this program:\n",
    "\n",
    "We use input() to get a string as input from the user.\n",
    "\n",
    "We calculate the length of the input string using the len() function and store it in the string_length variable.\n",
    "\n",
    "Finally, we use print() to display the length of the string.'''\n",
    "\n",
    "# Use the len() function to calculate the length of the string\n",
    "string_length = len(input_string)\n",
    "# Display the length of the string\n",
    "print(\"Length of your string is: \", string_length)"
   ]
  },
  {
   "cell_type": "code",
   "execution_count": null,
   "id": "5397809c-8a9a-4448-bb6e-745e3649cd52",
   "metadata": {},
   "outputs": [],
   "source": [
    "#TOPIC: String Based Questions\n",
    "##QUESTION 2:================================================================================================="
   ]
  },
  {
   "cell_type": "code",
   "execution_count": 124,
   "id": "8e1a9e93-3b8f-472c-b6c1-5191b493c422",
   "metadata": {},
   "outputs": [
    {
     "name": "stdin",
     "output_type": "stream",
     "text": [
      "Enter a sentence:  the quick brown fox jumps over the little lazy dog.\n"
     ]
    },
    {
     "name": "stdout",
     "output_type": "stream",
     "text": [
      "Number of vowels in the sentence: 13\n"
     ]
    }
   ],
   "source": [
    "'''Q2. Create a program that takes a sentence from the user and counts the number\n",
    "of vowels (a, e, i, o, u) in the string.'''\n",
    "\n",
    "# Get input from the user as a sentence\n",
    "sentence = input(\"Enter a sentence: \")\n",
    "\n",
    "# Initialize a variable to count vowels\n",
    "vowel_count = 0\n",
    "\n",
    "# Define a list of vowels\n",
    "vowels = ['a', 'e', 'i', 'o', 'u']\n",
    "\n",
    "# Convert the input sentence to lowercase to make the counting case-insensitive\n",
    "sentence = sentence.lower()\n",
    "\n",
    "# Iterate through each character in the sentence\n",
    "for char in sentence:\n",
    "    # Check if the character is a vowel\n",
    "    if char in vowels:\n",
    "        vowel_count += 1\n",
    "        \n",
    "'''In this program:\n",
    "\n",
    "We use input() to get a sentence as input from the user.\n",
    "\n",
    "We initialize a variable vowel_count to keep track of the count of vowels.\n",
    "\n",
    "We define a list vowels containing the vowels 'a', 'e', 'i', 'o', and 'u'.\n",
    "\n",
    "We convert the input sentence to lowercase using lower() to make the counting case-insensitive.\n",
    "\n",
    "We iterate through each character in the sentence and check if it is in the vowels list. If it is, we increment the vowel_count variable.\n",
    "\n",
    "Finally, we print the count of vowels in the sentence.'''\n",
    "        \n",
    "# Display the count of vowels in the sentence\n",
    "print(\"Number of vowels in the sentence:\", vowel_count)"
   ]
  },
  {
   "cell_type": "code",
   "execution_count": 125,
   "id": "c339b738-e1bd-4d4e-8bd9-3bca7d6a55c5",
   "metadata": {},
   "outputs": [],
   "source": [
    "#TOPIC: String Based Questions\n",
    "##QUESTION 3:================================================================================================="
   ]
  },
  {
   "cell_type": "code",
   "execution_count": 130,
   "id": "b4543b86-0e08-477d-a646-dad9a9ba4f1c",
   "metadata": {},
   "outputs": [
    {
     "name": "stdin",
     "output_type": "stream",
     "text": [
      "Enter a string:  mag\n"
     ]
    },
    {
     "name": "stdout",
     "output_type": "stream",
     "text": [
      "Reversed string: gam\n"
     ]
    }
   ],
   "source": [
    "'''Q3. Given a string, reverse the order of characters using string slicing and print\n",
    "the reversed string.'''\n",
    "\n",
    "# Get input from the user as a string\n",
    "input_string = input(\"Enter a string: \")\n",
    "\n",
    "# Use string slicing to reverse the string\n",
    "reversed_string = input_string[::-1]\n",
    "\n",
    "'''In this program:\n",
    "\n",
    "We use input() to get a string as input from the user.\n",
    "\n",
    "We use string slicing [::-1] to reverse the string. This slice notation with a step of -1 effectively reverses the order of characters in the string.\n",
    "\n",
    "We store the reversed string in the variable reversed_string.\n",
    "\n",
    "Finally, we print the reversed string using print().'''\n",
    "\n",
    "# Display the reversed string\n",
    "print(\"Reversed string:\", reversed_string)"
   ]
  },
  {
   "cell_type": "code",
   "execution_count": 131,
   "id": "593ea0c1-d761-4900-b1aa-c165c2710ba5",
   "metadata": {},
   "outputs": [],
   "source": [
    "#TOPIC: String Based Questions\n",
    "##QUESTION 4:================================================================================================="
   ]
  },
  {
   "cell_type": "code",
   "execution_count": 135,
   "id": "c873d427-2c2e-4623-98ba-b391aba0b54a",
   "metadata": {},
   "outputs": [
    {
     "name": "stdin",
     "output_type": "stream",
     "text": [
      "Enter a string:  magnitude\n"
     ]
    },
    {
     "name": "stdout",
     "output_type": "stream",
     "text": [
      "The input string is not a palindrome.\n"
     ]
    }
   ],
   "source": [
    "'''Q4. Write a program that takes a string as input and checks if it is a palindrome\n",
    "(reads the same forwards and backwards).'''\n",
    "\n",
    "# Get input from the user as a string\n",
    "input_string1 = input(\"Enter a string: \")\n",
    "\n",
    "# Remove spaces and convert the input string to lowercase\n",
    "cleaned_string = input_string1.replace(\" \", \"\").lower()\n",
    "\n",
    "# Reverse the cleaned string\n",
    "reversed_string = cleaned_string[::-1]\n",
    "\n",
    "'''In this program:\n",
    "\n",
    "We use input() to get a string as input from the user.\n",
    "\n",
    "We remove spaces and convert the input string to lowercase using replace() and lower(). \n",
    "This step ensures that we ignore spaces and make the comparison case-insensitive.\n",
    "\n",
    "We reverse the cleaned string using string slicing [::-1] and store it in reversed_string.\n",
    "\n",
    "We then check if the cleaned string is equal to its reverse. \n",
    "If they are equal, we print that the input string is a palindrome; \n",
    "otherwise, we print that it's not a palindrome.'''\n",
    "\n",
    "# Check if the cleaned string is equal to its reverse\n",
    "if cleaned_string == reversed_string:\n",
    "    print(\"The input string is a palindrome.\")\n",
    "else:\n",
    "    print(\"The input string is not a palindrome.\")"
   ]
  },
  {
   "cell_type": "code",
   "execution_count": 136,
   "id": "a16db09f-b866-482b-afe7-0234832a0074",
   "metadata": {},
   "outputs": [],
   "source": [
    "#TOPIC: String Based Questions\n",
    "##QUESTION 5:================================================================================================="
   ]
  },
  {
   "cell_type": "code",
   "execution_count": 140,
   "id": "5716ad66-888c-4bcb-8d6a-aa6c1fdc0260",
   "metadata": {},
   "outputs": [
    {
     "name": "stdin",
     "output_type": "stream",
     "text": [
      "Enter a string:  Gautam is nice boy\n"
     ]
    },
    {
     "name": "stdout",
     "output_type": "stream",
     "text": [
      "Modified string without spaces: Gautamisniceboy\n"
     ]
    }
   ],
   "source": [
    "'''Q5. Create a program that takes a string as input and removes all the spaces from\n",
    "it. Print the modified string without spaces.'''\n",
    "\n",
    "# Get input from the user as a string\n",
    "input_string2 = input(\"Enter a string: \")\n",
    "\n",
    "# Remove spaces and convert the input string to lowercase\n",
    "cleaned_string1 = input_string2.replace(\" \", \"\")\n",
    "\n",
    "'''In this program:\n",
    "\n",
    "We use input() to get a string as input from the user.\n",
    "\n",
    "We use the replace() method to remove spaces from the input string by replacing them with an empty string \"\".\n",
    "\n",
    "We store the modified string without spaces in the modified_string variable.\n",
    "\n",
    "Finally, we print the modified string without spaces using print().'''\n",
    "\n",
    "# Display the modified string without spaces\n",
    "print(\"Modified string without spaces:\", cleaned_string1)"
   ]
  },
  {
   "cell_type": "code",
   "execution_count": null,
   "id": "44af24d6-5a72-4be7-950a-ffb2642f43d1",
   "metadata": {},
   "outputs": [],
   "source": []
  }
 ],
 "metadata": {
  "kernelspec": {
   "display_name": "Python 3 (ipykernel)",
   "language": "python",
   "name": "python3"
  },
  "language_info": {
   "codemirror_mode": {
    "name": "ipython",
    "version": 3
   },
   "file_extension": ".py",
   "mimetype": "text/x-python",
   "name": "python",
   "nbconvert_exporter": "python",
   "pygments_lexer": "ipython3",
   "version": "3.10.8"
  }
 },
 "nbformat": 4,
 "nbformat_minor": 5
}
